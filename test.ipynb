{
 "cells": [
  {
   "cell_type": "code",
   "execution_count": 47,
   "metadata": {},
   "outputs": [],
   "source": [
    "import pandas as pd\n",
    "import numpy as np\n",
    "\n",
    "data = pd.read_csv(\"data/two_stage/two_stage.csv\")\n",
    "data.drop_duplicates(subset=['Bandwidth', 'Power Consumption', 'Voltage Gain'], inplace=True)\n",
    "data.reset_index(inplace=True, drop=True)\n",
    "\n",
    "x = np.asarray(data.iloc[:,0:7])[0:100]\n",
    "np.save(\"data/two_stage/x.npy\", x)\n",
    "\n",
    "y = np.asarray(data.iloc[:,7:])[0:100]\n",
    "np.save(\"data/two_stage/y.npy\", y)\n"
   ]
  },
  {
   "cell_type": "code",
   "execution_count": 33,
   "metadata": {},
   "outputs": [
    {
     "data": {
      "text/plain": [
       "array([], shape=(1, 10, 0), dtype=float64)"
      ]
     },
     "execution_count": 33,
     "metadata": {},
     "output_type": "execute_result"
    }
   ],
   "source": [
    "np.load(\"result_out/two_stage-circuit-Base-dataset-Model500GELU-method-2023-11-28 14-31/circuit_error_average.npy\")"
   ]
  }
 ],
 "metadata": {
  "kernelspec": {
   "display_name": "Python 3",
   "language": "python",
   "name": "python3"
  },
  "language_info": {
   "codemirror_mode": {
    "name": "ipython",
    "version": 3
   },
   "file_extension": ".py",
   "mimetype": "text/x-python",
   "name": "python",
   "nbconvert_exporter": "python",
   "pygments_lexer": "ipython3",
   "version": "3.11.6"
  }
 },
 "nbformat": 4,
 "nbformat_minor": 2
}
