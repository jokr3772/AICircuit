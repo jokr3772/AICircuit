{
 "cells": [
  {
   "cell_type": "code",
   "execution_count": 37,
   "metadata": {},
   "outputs": [],
   "source": [
    "data_name = 'VCO'\n",
    "model_name = 'Transformer'\n",
    "\n",
    "if data_name == 'TwoStageAmplifier':\n",
    "    df_cols = ['C1', 'WNOUT', 'WPOUT', 'WCS', 'WN1', 'WP1', 'Bandwidth', 'Power Consumption', 'Voltage Gain']\n",
    "    num_params = 6\n",
    "elif data_name == 'LNA':\n",
    "    df_cols = ['C1', 'C2', 'Ld', 'Lg', 'Ls', 'WN1', 'WN2', 'GT', 'S11', 'NF', 'Bandwidth', 'Power Consumption']\n",
    "    num_params = 7\n",
    "elif data_name == 'SingleStageAmplifier':\n",
    "    df_cols = ['VDD', 'Vgate', 'Wn', 'Rd', 'Bandwidth', 'Power Consumption', 'Voltage Gain']\n",
    "    num_params = 4\n",
    "elif data_name == 'Cascode':\n",
    "    df_cols = ['Wbias', 'Rd', 'Wn1', 'Wn2', 'Bandwidth', 'Power Consumption', 'Voltage Gain']\n",
    "    num_params = 4\n",
    "elif data_name == 'VCO':\n",
    "    df_cols = ['C1', 'L1', 'Rp', 'Wn', 'Wn5', 'Wn6', 'Wvar', 'Oscillation Frequency', 'Power Consumption', 'Output Power', 'Phase Noise', 'Tuning Range']\n",
    "    num_params = 7\n",
    "elif data_name == 'Mixer':\n",
    "    df_cols = ['C', 'R', 'WLO' , 'WRF', 'Power Consumption', 'IF Voltage Swing', 'Conversion Gain' , 'Noise Figure']\n",
    "    num_params = 4\n",
    "elif data_name == 'PA':\n",
    "    df_cols = ['L1p', 'L1s', 'L3p', 'L3s', 'Lm', 'Wn1', 'Wn2', 'S11', 'S22', 'Large Signal Power Gain', 'PAE', 'Drain Efficiency', 'PSAT', 'Power Consumption']\n",
    "    num_params = 7\n",
    "elif data_name == 'VCO_PA':\n",
    "    df_cols = ['C1_VCO', 'L1_VCO', 'Rp_VCO', 'Wn_VCO', 'Wn6_VCO', 'Wvar_VCO', 'L1p_PA', 'L1s_PA', 'L3p_PA', 'L3s_PA', 'Wn1_PA', 'Wn2_PA',\n",
    "               'dcPowerConsumption/W', '3dB_Bandwidth/Hz', 'OutputPower/dBm', 'VoltageSwing/V', 'TuningRange_VCO/Hz', 'PhaseNoise_VCO/(dBc/Hz)', \n",
    "               'LargeSignal_PowerGain_PA/dB', 'DrainEfficiency_PA/%', 'PAE_PA/%']\n",
    "    num_params = 12\n",
    "elif data_name == 'Receiver':\n",
    "    df_cols = ['C1_LNA', 'C2_LNA', 'Ld_LNA', 'Lg_LNA', 'Ls_LNA', 'WN1_LNA', 'WN2_LNA', 'C_Mixer', 'R_Mixer', 'WLO_Mixer', 'WRF_Mixer', 'Rd_Amp',\n",
    "               'Wn1_Amp', 'Wn2_Amp', 'dcPowerConsumption_System', 'VoltageGain_System_Value', 'NoiseFigure_System_Value', 'PowerGain_LNA/dB',\n",
    "               'NoiseFigure_LNA/dB', 'S11_LNA/dB', 'ConversionGain_Mixer/dB', 'VoltageSwing_Mixer/V', 'VoltageGain_Amp/dB']\n",
    "    num_params = 14\n",
    "elif data_name == 'Transmitter-PA':\n",
    "    # df_cols = ['L1p_PA', 'L1s_PA', 'L3p_PA', 'L3s_PA', 'Wn1_PA', 'Wn2_PA', 'LargeSignal_PowerGain_PA/dB', 'DrainEfficiency/%', 'PAE/%']\n",
    "    df_cols = ['L1p_PA', 'L1s_PA', 'L3p_PA', 'L3s_PA', 'Wn1_PA', 'Wn2_PA', 'dcPowerConsumption/W', '3dB_Bandwidth/Hz', 'OutputPower/dBm',\n",
    "               'VoltageSwing/V', 'LargeSignal_PowerGain_PA/dB', 'DrainEfficiency/%', 'PAE/%']\n",
    "    num_params = 6\n",
    "elif data_name == 'Transmitter-VCO':\n",
    "    # df_cols = ['C1_VCO', 'L1_VCO', 'Rp_VCO', 'Wn_VCO', 'Wn6_VCO', 'Wvar_VCO', 'TuningRange_VCO/Hz', 'PhaseNoise_VCO/(dBc/Hz)']\n",
    "    df_cols = ['C1_VCO', 'L1_VCO', 'Rp_VCO', 'Wn_VCO', 'Wn6_VCO', 'Wvar_VCO', 'dcPowerConsumption/W', '3dB_Bandwidth/Hz', 'OutputPower/dBm', \n",
    "               'VoltageSwing/V', 'TuningRange_VCO/Hz', 'PhaseNoise_VCO/(dBc/Hz)']\n",
    "    num_params = 6\n",
    "else:\n",
    "    raise ValueError(\"No Dataset Found with This Name!\")"
   ]
  }
 ],
 "metadata": {
  "kernelspec": {
   "display_name": "Python 3",
   "language": "python",
   "name": "python3"
  },
  "language_info": {
   "codemirror_mode": {
    "name": "ipython",
    "version": 3
   },
   "file_extension": ".py",
   "mimetype": "text/x-python",
   "name": "python",
   "nbconvert_exporter": "python",
   "pygments_lexer": "ipython3",
   "version": "3.11.6"
  }
 },
 "nbformat": 4,
 "nbformat_minor": 2
}
